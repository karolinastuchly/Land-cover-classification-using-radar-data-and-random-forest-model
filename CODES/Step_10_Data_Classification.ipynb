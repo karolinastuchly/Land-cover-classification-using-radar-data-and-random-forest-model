{
 "cells": [
  {
   "cell_type": "markdown",
   "metadata": {},
   "source": [
    "### Import libraries"
   ]
  },
  {
   "cell_type": "code",
   "execution_count": null,
   "metadata": {},
   "outputs": [],
   "source": [
    "import geopandas as gpd\n",
    "import pandas as pd\n",
    "import numpy as np\n",
    "import matplotlib.pyplot as plt\n",
    "import rasterio\n",
    "from rasterio.plot import show\n",
    "import os\n",
    "from raster2xyz.raster2xyz import Raster2xyz\n",
    "from sklearn.preprocessing import MinMaxScaler, RobustScaler, StandardScaler\n",
    "import time\n",
    "from geocube.api.core import make_geocube\n",
    "from sklearn.impute import SimpleImputer\n",
    "import seaborn as sns\n",
    "from sklearn.model_selection import StratifiedKFold, GridSearchCV, RandomizedSearchCV, cross_val_score, validation_curve\n",
    "from sklearn.metrics import accuracy_score, confusion_matrix, f1_score, roc_curve, precision_score, recall_score, roc_auc_score, classification_report\n",
    "from sklearn.ensemble import RandomForestClassifier\n",
    "from sklearn.feature_selection import SelectFromModel, RFE\n",
    "import gc\n",
    "from shapely.geometry import Point\n",
    "from shapely import wkt\n"
   ]
  },
  {
   "cell_type": "markdown",
   "metadata": {},
   "source": [
    "\n",
    "This code snippet extracts raster values from multiple TIFF files for each point in a shapefile and saves the results to a CSV file. It first reads the shapefile containing point geometries. Then, it iterates through each TIFF file, samples raster values at the point coordinates, and adds them as columns to the DataFrame. Finally, it saves the DataFrame to a CSV file and prints out the processing time."
   ]
  },
  {
   "cell_type": "code",
   "execution_count": null,
   "metadata": {},
   "outputs": [],
   "source": [
    "start = time.process_time()\n",
    "shapefile_path = \"\"\n",
    "grid_df = gpd.read_file(shapefile_path)\n",
    "\n",
    "tif_folder = \"\"\n",
    "tif_files = [file for file in os.listdir(tif_folder) if file.endswith('.tif') or file.endswith('.img')]\n",
    "tif_files_sorted = sorted(tif_files)\n",
    "\n",
    "def get_raster_values(tif_file, coords):\n",
    "    with rasterio.open(os.path.join(tif_folder, tif_file)) as src:\n",
    "        values = [x[0] for x in src.sample(coords)]\n",
    "    return values\n",
    "\n",
    "for tif_file in tif_files_sorted:\n",
    "    column_name = os.path.splitext(tif_file)[0]  \n",
    "    coord_list = [(x, y) for x, y in zip(grid_df[\"geometry\"].x, grid_df[\"geometry\"].y)]\n",
    "    grid_df[column_name] = get_raster_values(tif_file, coord_list)\n",
    "grid_df.to_csv(\"\", sep=',', index=False, header=True)\n",
    "print(\"Features extracted to the file\")\n",
    "print(\"Procesing time in [s]\", time.process_time() - start)"
   ]
  },
  {
   "cell_type": "markdown",
   "metadata": {},
   "source": [
    "This code performs data preprocessing steps, loads a trained model, makes predictions on the preprocessed data, and merges the predictions with the original geometry data."
   ]
  },
  {
   "cell_type": "code",
   "execution_count": null,
   "metadata": {},
   "outputs": [],
   "source": [
    "grid_df.replace([np.inf, -np.inf, 0.0, -1000000000.0, 9999.0], np.nan, inplace=True)\n",
    "filename = \"\"\n",
    "numeric_columns = grid_df.iloc[:, 3:].select_dtypes(include=[np.number]).columns\n",
    "grid_features_numeric = grid_df.iloc[:, 4:][numeric_columns]\n",
    "scaler = StandardScaler()\n",
    "features_scaled = pd.DataFrame(scaler.fit_transform(grid_features_numeric), columns=grid_features_numeric.columns)\n",
    "imputation = SimpleImputer(missing_values=np.nan, strategy='median')\n",
    "grid_features_clean = imputation.fit_transform(features_scaled)\n",
    "loaded_model = pickle.load(open(filename, 'rb'))\n",
    "result = pd.DataFrame(loaded_model.predict(grid_features_clean))\n",
    "df1 = pd.merge(grid_df.iloc[:, 3], result, left_index=True, right_index=True)\n",
    "df1.columns = ['geometry', 'pred_class']"
   ]
  },
  {
   "cell_type": "markdown",
   "metadata": {},
   "source": [
    "\n",
    "This code snippet converts a GeoDataFrame (grid_gdf) containing predicted classes into a raster format and saves it as a GeoTIFF file. It utilizes the make_geocube function from the GeoCube library to create a raster cube from vector data, specifying the measurement to be the predicted class. The resulting raster is then saved as a GeoTIFF file. Finally, it prints out the path to the saved GeoTIFF file."
   ]
  },
  {
   "cell_type": "code",
   "execution_count": null,
   "metadata": {},
   "outputs": [],
   "source": [
    "start = time.process_time()\n",
    "grid_gdf= gpd.GeoDataFrame(df1, geometry='geometry',crs='EPSG:32631')\n",
    "geotif_file =\"\"\n",
    "res=20\n",
    "out_grd = make_geocube(\n",
    "    vector_data=grid_gdf,\n",
    "    measurements=[\"pred_class\"],\n",
    "    resolution=(-res, res)\n",
    ")\n",
    "out_grd[\"pred_class\"].rio.to_raster(geotif_file)\n",
    "print ('Classification result in geotiff write as:',geotif_file)\n",
    "print(\"Procesing time in [s]\", time.process_time() - start)"
   ]
  }
 ],
 "metadata": {
  "kernelspec": {
   "display_name": "Python 3",
   "language": "python",
   "name": "python3"
  },
  "language_info": {
   "codemirror_mode": {
    "name": "ipython",
    "version": 3
   },
   "file_extension": ".py",
   "mimetype": "text/x-python",
   "name": "python",
   "nbconvert_exporter": "python",
   "pygments_lexer": "ipython3",
   "version": "3.9.16"
  }
 },
 "nbformat": 4,
 "nbformat_minor": 2
}

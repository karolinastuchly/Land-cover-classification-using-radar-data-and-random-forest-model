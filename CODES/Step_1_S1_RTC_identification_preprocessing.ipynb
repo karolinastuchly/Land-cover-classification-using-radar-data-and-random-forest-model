{
 "cells": [
  {
   "cell_type": "markdown",
   "id": "39160d22-dd1a-4f34-a516-105f88583b2e",
   "metadata": {},
   "source": [
    "### Importing necessary libraries"
   ]
  },
  {
   "cell_type": "code",
   "execution_count": null,
   "id": "40e6af70-8fcc-458d-9fb8-5e4c2daaa9c7",
   "metadata": {
    "tags": []
   },
   "outputs": [],
   "source": [
    "from glob import glob\n",
    "import json\n",
    "from pprint import pprint\n",
    "import pandas as pd\n",
    "import geopandas as gpd\n",
    "import rasterio\n",
    "import numpy as np\n",
    "import folium\n",
    "import rioxarray as riox\n",
    "from datetime import datetime, timedelta\n",
    "from rasterio.mask import mask\n",
    "from shapely.geometry import Point\n"
   ]
  },
  {
   "cell_type": "markdown",
   "id": "8498114c-3cf5-4b1c-b834-90c89ee6e550",
   "metadata": {},
   "source": [
    "##### STEP 1 AOI and coordinates\n",
    "Finding coordinates for the Area of Interest (AOI) based on the defined .shp in geographical WGS84 reference frame (EPSG4326). This reference system was used due to the names used for the identification of RTC products (RTC products are named and are available in geographic NorthEeast schema). Therefore it is recommended to use .shp in EPSG4326 in this step. Afterwards, within the further processing steps. The products will be converted and produced in EPSG32631 reference system. In futher steps we will, work on the automatic reprojection of shp witin the Jupyter Notebook (TO BE DONE!)\n",
    "If you want to check min/max coordinates of the interested AOI call \"coordinates\" command,\n",
    "* to define the path to the shp change \"shp_path\" remember about the slash (/)"
   ]
  },
  {
   "cell_type": "code",
   "execution_count": null,
   "id": "32ea3563-9757-48b4-9e5f-2c2cd6b9e0a0",
   "metadata": {
    "tags": []
   },
   "outputs": [],
   "source": [
    "actual_path = os.getcwd()\n",
    "classification_path = actual_path + \"\"\n",
    "shp_path = classification_path + \"\"\n",
    "\n",
    "shp = gpd.read_file(shp_path)\n",
    "\n",
    "coordinates = shp.total_bounds\n",
    "\n",
    "min_x = int(coordinates[0])\n",
    "min_y = int(coordinates[1])\n",
    "max_x = int(coordinates[2])\n",
    "max_y = int(coordinates[3])\n",
    "\n",
    "for x in range(min_x, max_x + 1):\n",
    "    for y in range(min_y, max_y + 1):\n",
    "        coordinate = f\"N{y:02d}E{x:03d}\"\n",
    "        print(coordinate)\n",
    "        \n",
    "def read_shapefile(filepath):\n",
    "    sf = shapefile.Reader(filepath)\n",
    "    shapes = sf.shapes()\n",
    "    records = sf.records()\n",
    "    fields = sf.fields\n"
   ]
  },
  {
   "cell_type": "markdown",
   "id": "a96e13c0-e471-4f92-98e0-e27f221c56e5",
   "metadata": {},
   "source": [
    "#### STEP 2 Searching for the RTC products based on AOI\n",
    "* Searching available Radiometrically Terrain Corrected (RTC) products based on the previously identified max/min coordinates of AOI\n",
    "* Here, please specify date in \"time\".Note that ** defines all available images in the month. Here we define all products for January 2023\n",
    "* Notice the appropriate slash usage !\n",
    "* Coordinates of Lagos N06E003\n",
    "* Available products for AOI and selected \"Time\" are saved afterwards to .txt file named available_RTCproducts_for_AOI"
   ]
  },
  {
   "cell_type": "code",
   "execution_count": null,
   "id": "8a9a28ba-40e0-45fc-a093-1cd8c691d495",
   "metadata": {
    "tags": []
   },
   "outputs": [],
   "source": [
    "path = \"\"\n",
    "time = \"\"\n",
    "\n",
    "for x in range(min_x, max_x + 1):\n",
    "    for y_value in range(min_y, max_y + 1):\n",
    "        coordinate = f\"N{y_value:02d}E{x:03d}\"\n",
    "        r = coordinate\n",
    "\n",
    "        files = glob.glob(path + time + r + '*')\n",
    "\n",
    "        with open(\"\", mode='a') as f:\n",
    "            for file in files:\n",
    "                f.write(file + '\\n')\n",
    "def count_line(filename):\n",
    "    with open(filename, 'r') as file:\n",
    "        lines = sum(1 for line in file)\n",
    "    return lines\n",
    "\n",
    "filename = \"\"\n",
    "lines = count_line(filename)\n",
    "print(f'Number of product found for thwe selected AOI: {lines}')"
   ]
  },
  {
   "cell_type": "markdown",
   "id": "740d2892-0199-4649-a86a-e9fc656acac3",
   "metadata": {
    "tags": []
   },
   "source": [
    "##### Optional: Display metada from selected image\n",
    "* Add number, and modify variables\n",
    "* Optional"
   ]
  },
  {
   "cell_type": "code",
   "execution_count": null,
   "id": "f2d67822-2245-4de4-ac30-000b737f6f82",
   "metadata": {
    "tags": []
   },
   "outputs": [],
   "source": [
    "json_text = str()\n",
    "date='/2023/01/15/'\n",
    "dat='_2023_01_15_'\n",
    "coord='N06E002'\n",
    "number='059C5A'\n",
    "e='metadata.json'\n",
    "with open(p+date+coord+dat+number+'/s1_rtc_'+number+'_'+coord+dat+ e, 'r') as f:\n",
    "    json_text = f.read()\n",
    "\n",
    "data = json.loads(json_text)\n"
   ]
  },
  {
   "cell_type": "markdown",
   "id": "61fc748d-5401-4a34-87dd-80c16f4fbc59",
   "metadata": {},
   "source": [
    "#### STEP 3 Accessing RTC products metadata\n",
    "* Making paths with names and ends 'metada.json' to access metadeta of the identified RTC products (geometry, relative orbit number etc.)\n",
    "* If you want to print the path to metadata of each product uncommend the #\" part of code"
   ]
  },
  {
   "cell_type": "code",
   "execution_count": null,
   "id": "b6ecf130-00ff-45bc-9fe7-07d11d4ba3e3",
   "metadata": {
    "tags": []
   },
   "outputs": [],
   "source": [
    "file_path = \"\"\n",
    "extension = 'metadata.json'\n",
    "\n",
    "with open(file_path, 'r') as file:\n",
    "    paths = [line.strip() for line in file]\n",
    "\n",
    "files = []\n",
    "for path in paths:\n",
    "    files.extend(glob.glob(path + '/*' + extension))\n",
    "    "
   ]
  },
  {
   "cell_type": "markdown",
   "id": "04d6e5a5-890f-48b1-8337-31281ec8e193",
   "metadata": {},
   "source": [
    "##### Storing products in dataframe\n",
    "* Here all idenfied RTC products are stored in one Dataframe with path, orbits, mode "
   ]
  },
  {
   "cell_type": "code",
   "execution_count": null,
   "id": "0f289ede-e8af-4e44-8074-ebac1ac59f3a",
   "metadata": {
    "tags": []
   },
   "outputs": [],
   "source": [
    "orbits = []  \n",
    "names = []\n",
    "datetime = []  \n",
    "mode = []  \n",
    "nor= []\n",
    "sao=[]\n",
    "for file in files:\n",
    "    with open(file, 'r') as f:\n",
    "        json_text = f.read()\n",
    "\n",
    "    data = json.loads(json_text)\n",
    "    \n",
    "    names.append(data['id'])\n",
    "    orbits.append(data['properties']['sat:orbit_state'])\n",
    "    datetime.append(data['properties']['datetime']) \n",
    "    nor.append(data['properties']['sat:relative_orbit'])\n",
    "\n",
    "df = pd.DataFrame(list(zip(files, names, orbits, datetime, nor,)), columns=['Path', 'Name', 'Orbit', 'Datetime', 'Relative_orbit'])\n",
    "new = df[\"Datetime\"].str.split(\"T\", n = 1, expand = True)\n",
    "df[\"Date\"]= new[0]\n",
    "df[\"Time\"]= new[1]\n",
    "df.drop(['Datetime'], axis=1)\n",
    "df.to_csv(\"\" +\"\", sep=',', index=False, header=True)\n",
    "df.head(5)"
   ]
  },
  {
   "cell_type": "markdown",
   "id": "67ac8109-f3dc-480a-bfbc-d2150ed71e66",
   "metadata": {},
   "source": [
    "##### STEP 5 Finding appropriate Relative Orbit number for AOI\n",
    "* Here, we can found number of available RTC images within AOI for each specific RelativeOrbitNumber. There are some cases, when only few products are found for the AOI which are not covered the AOI and then merging of RTC products from various relative orbit numbers and various dates will be needed. This is also check for TO DO LIST! At the moment, we toolk for the investigation, the relative orbit number for which we found the most available products (here RelativeOrbitNumber =1) "
   ]
  },
  {
   "cell_type": "code",
   "execution_count": null,
   "id": "8affddc6-0f80-4718-8095-202319f514b2",
   "metadata": {
    "tags": []
   },
   "outputs": [],
   "source": [
    "stat = []\n",
    "unique=df['Relative_orbit'].unique()\n",
    "for i in unique:\n",
    "    no=len(df[df.Relative_orbit== i])\n",
    "    stat = stat + [no]\n",
    "stat = np.array(stat)\n",
    "combined = np.vstack((unique, stat)).T\n",
    "df1 = pd.DataFrame(combined)\n",
    "df1.columns=['RelativeOrbitNumber','no_of_found_images_within_AOI']\n",
    "df1"
   ]
  },
  {
   "cell_type": "markdown",
   "id": "ecc5bf75-956e-4065-aa9e-302dd45a2104",
   "metadata": {},
   "source": [
    "### Selecting appropriate dates, please specify relative orbit number which you select in \"df_RO= df[df['Relative_orbit'] ==1]\""
   ]
  },
  {
   "cell_type": "code",
   "execution_count": null,
   "id": "9cb6a9f4-0da5-4a9b-b378-76baa27bf2a4",
   "metadata": {
    "tags": []
   },
   "outputs": [],
   "source": [
    "stat = []\n",
    "df_RO= df[df['Relative_orbit'] ==1]\n",
    "unique=df_RO['Date'].unique()\n",
    "for i in unique:\n",
    "    no=len(df_RO[df_RO.Date== i])\n",
    "    stat = stat + [no]\n",
    "stat = np.array(stat)\n",
    "combined = np.vstack((unique, stat)).T\n",
    "df2 = pd.DataFrame(combined)\n",
    "df2.columns=['Date','no_of_found_images_within_AOI']\n",
    "maximum_o_images=max(df2['no_of_found_images_within_AOI'])\n",
    "df2"
   ]
  },
  {
   "cell_type": "markdown",
   "id": "452cfac1-000b-4e9b-9c86-fd53a35b2b6b",
   "metadata": {},
   "source": [
    "### STEP 6 Selection of the appropriate Relative Orbit Number and saving selected path with VV and VH extenstion to csv"
   ]
  },
  {
   "cell_type": "code",
   "execution_count": null,
   "id": "d2a32492-f1bf-492b-b050-989f7e4cfc55",
   "metadata": {
    "tags": []
   },
   "outputs": [],
   "source": [
    "from datetime import datetime\n",
    "actual_path=os.getcwd()\n",
    "klasyfikacja_path = \"\"\n",
    "df_selectedproducts=df[df['Relative_orbit'] ==1]\n",
    "df_sliceVV= df_selectedproducts.loc[:, ('Path','Date')]\n",
    "df_sliceVV['Path'] = df_sliceVV['Path'].str.replace('metadata.json', '')\n",
    "df_sliceVV['Path'] =df_sliceVV['Path'].astype(str) +  'VV.tif'\n",
    "\n",
    "pd.to_datetime(df_sliceVV['Date'], format='%Y-%m-%d')\n",
    "df_sliceVV['date'] = pd.to_datetime(df_sliceVV['Date'], format='%Y-%m-%d')\n",
    "df_sliceVV.to_csv(\"\" +\"\", sep=',', index=False, header=True)\n",
    "\n",
    "df_sliceVH= df_selectedproducts.loc[:, ('Path','Date')]\n",
    "df_sliceVH['Path'] = df_sliceVH['Path'].str.replace('metadata.json', '')\n",
    "df_sliceVH['Path'] = df_sliceVH['Path'].astype(str) +  'VH.tif'\n",
    "pd.to_datetime(df_sliceVH['Date'], format='%Y-%m-%d')\n",
    "df_sliceVH['date'] = pd.to_datetime(df_sliceVH['Date'], format='%Y-%m-%d')\n",
    "df_sliceVH.to_csv(\"\" +\"\", sep=',', index=False, header=True)\n",
    "\n"
   ]
  },
  {
   "cell_type": "markdown",
   "id": "daadc19a-021b-4798-9873-e551fefaf800",
   "metadata": {},
   "source": [
    "### Creates a folder where merged RTC products will be stores folder name \"merged_RTC\""
   ]
  },
  {
   "cell_type": "code",
   "execution_count": null,
   "id": "21a0a60b-9e6e-48a0-9ccd-f96674520602",
   "metadata": {
    "tags": []
   },
   "outputs": [],
   "source": [
    "actual_path=os.getcwd()\n",
    "klasyfikacja_path = actual_path+\"\"\n",
    "merged_path = actual_path+\"\"+\"\"\n",
    "isExist = os.path.exists(merged_path)\n",
    "if not isExist:\n",
    "    os.makedirs(merged_path)\n",
    "    print(\"created folder: {}\".format(merged_path))\n",
    "print(\"Folder already exists\")"
   ]
  },
  {
   "cell_type": "markdown",
   "id": "4ed67e5e-f3ea-424c-ba5f-1a98f75ba0c6",
   "metadata": {},
   "source": [
    "### Display tiff and shp on the map"
   ]
  },
  {
   "cell_type": "code",
   "execution_count": null,
   "id": "b5a40f92-06c8-4249-8a6c-2d34941fbc15",
   "metadata": {},
   "outputs": [],
   "source": [
    "file_paths = [\"\"]\n",
    "shp_path = \"\"\n",
    "\n",
    "gdf = gpd.read_file(shp_path)\n",
    "\n",
    "emap = folium.Map(location=[gdf.geometry.centroid.y.mean(), gdf.geometry.centroid.x.mean()], zoom_start=8)\n",
    "\n",
    "folium.GeoJson(gdf).add_to(emap)\n",
    "\n",
    "for file_path in file_paths:\n",
    "    image_overlay = folium.raster_layers.ImageOverlay(\n",
    "        image=file_path,\n",
    "        bounds=[[6, 2], [8, 5]],\n",
    "        opacity=1,\n",
    "        name=\"Image Overlay\"\n",
    "    )\n",
    "    image_overlay.add_to(emap)\n",
    "emap"
   ]
  }
 ],
 "metadata": {
  "kernelspec": {
   "display_name": "Python 3 (ipykernel)",
   "language": "python",
   "name": "python3"
  },
  "language_info": {
   "codemirror_mode": {
    "name": "ipython",
    "version": 3
   },
   "file_extension": ".py",
   "mimetype": "text/x-python",
   "name": "python",
   "nbconvert_exporter": "python",
   "pygments_lexer": "ipython3",
   "version": "3.8.10"
  }
 },
 "nbformat": 4,
 "nbformat_minor": 5
}

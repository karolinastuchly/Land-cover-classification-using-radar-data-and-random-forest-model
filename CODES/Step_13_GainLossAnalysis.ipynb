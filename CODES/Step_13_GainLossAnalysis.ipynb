{
 "cells": [
  {
   "cell_type": "code",
   "execution_count": 1,
   "metadata": {},
   "outputs": [
    {
     "name": "stderr",
     "output_type": "stream",
     "text": [
      "C:\\Users\\karo1\\AppData\\Local\\Temp\\ipykernel_23876\\2836274287.py:15: RuntimeWarning: overflow encountered in long_scalars\n",
      "  return np.sum(pixels) * pixel_size\n",
      "C:\\Users\\karo1\\AppData\\Local\\Temp\\ipykernel_23876\\2836274287.py:29: RuntimeWarning: overflow encountered in long_scalars\n",
      "  total_change = gain_area - loss_area\n"
     ]
    },
    {
     "name": "stdout",
     "output_type": "stream",
     "text": [
      "Number of pixels with forest loss: 2497300\n",
      "Number of pixels with forest gain: 7389276\n"
     ]
    }
   ],
   "source": [
    "import rasterio\n",
    "import numpy as np\n",
    "\n",
    "def read_raster(file_path):\n",
    "    with rasterio.open(file_path) as dataset:\n",
    "        data = dataset.read(1)\n",
    "    return data\n",
    "\n",
    "def compare_forest_change(first_map, second_map):\n",
    "    loss = (first_map == 6) & (second_map != 6)\n",
    "    gain = (first_map != 6) & (second_map == 6)\n",
    "    return loss, gain\n",
    "\n",
    "def calculate_area(pixels, pixel_size=400):  # 20m x 20m = 400m**2 per pixel\n",
    "    return np.sum(pixels) * pixel_size\n",
    "\n",
    "def create_change_map(first_path, second_path, output_path, txt_output_path):\n",
    "    first_map = read_raster(first_path)\n",
    "    second_map = read_raster(second_path)\n",
    "\n",
    "    loss, gain = compare_forest_change(first_map, second_map)\n",
    "\n",
    "    change_map = np.zeros(first_map.shape, dtype=np.int8)\n",
    "    change_map[loss] = 1\n",
    "    change_map[gain] = 2\n",
    "\n",
    "    loss_area = calculate_area(loss)\n",
    "    gain_area = calculate_area(gain)\n",
    "    total_change = gain_area - loss_area\n",
    "    \n",
    "    print(f\"Number of pixels with forest loss: {np.sum(change_map == 1)}\")\n",
    "    print(f\"Number of pixels with forest gain: {np.sum(change_map == 2)}\")\n",
    "\n",
    "    with open(txt_output_path, 'w') as txt_file:\n",
    "        txt_file.write(f\"Total area of loss: {loss_area} m^2\\n\")\n",
    "        txt_file.write(f\"Total area of gain: {gain_area} m^2\\n\")\n",
    "        txt_file.write(f\"Total change: {total_change} m^2\\n\")\n",
    "\n",
    "    with rasterio.open(first_path) as src:\n",
    "        profile = src.profile\n",
    "        profile.update(dtype=rasterio.int8, count=1)\n",
    "\n",
    "        with rasterio.open(output_path, 'w', **profile) as dst:\n",
    "            dst.write(change_map, 1)\n",
    "\n",
    "first_file =''\n",
    "second_file = ''\n",
    "output_file = ''\n",
    "txt_output_file = ''\n",
    "\n",
    "create_change_map(first_file, second_file, output_file, txt_output_file)"
   ]
  },
  {
   "cell_type": "code",
   "execution_count": null,
   "metadata": {},
   "outputs": [],
   "source": []
  }
 ],
 "metadata": {
  "kernelspec": {
   "display_name": "Python 3",
   "language": "python",
   "name": "python3"
  },
  "language_info": {
   "codemirror_mode": {
    "name": "ipython",
    "version": 3
   },
   "file_extension": ".py",
   "mimetype": "text/x-python",
   "name": "python",
   "nbconvert_exporter": "python",
   "pygments_lexer": "ipython3",
   "version": "3.9.16"
  }
 },
 "nbformat": 4,
 "nbformat_minor": 2
}

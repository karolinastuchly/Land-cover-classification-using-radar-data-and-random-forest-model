{
 "cells": [
  {
   "cell_type": "markdown",
   "metadata": {},
   "source": [
    "### Import libraries"
   ]
  },
  {
   "cell_type": "code",
   "execution_count": null,
   "metadata": {},
   "outputs": [],
   "source": [
    "import geopandas as gpd\n",
    "import pandas as pd\n",
    "import numpy as np\n",
    "import matplotlib.pyplot as plt\n",
    "import rasterio\n",
    "from rasterio.plot import show\n",
    "import os\n",
    "from raster2xyz.raster2xyz import Raster2xyz\n",
    "from sklearn.preprocessing import MinMaxScaler, RobustScaler, StandardScaler\n",
    "import time\n",
    "from geocube.api.core import make_geocube\n",
    "from sklearn.impute import SimpleImputer\n",
    "import seaborn as sns\n",
    "from sklearn.model_selection import StratifiedKFold, GridSearchCV, RandomizedSearchCV, cross_val_score, validation_curve\n",
    "from sklearn.metrics import accuracy_score, confusion_matrix, f1_score, roc_curve, precision_score, recall_score, roc_auc_score, classification_report\n",
    "from sklearn.ensemble import RandomForestClassifier\n",
    "from sklearn.feature_selection import SelectFromModel, RFE\n",
    "import gc\n",
    "from shapely.geometry import Point\n",
    "from shapely import wkt\n"
   ]
  },
  {
   "cell_type": "markdown",
   "metadata": {},
   "source": [
    "This code creates a DataFrame df from a list of lists data. Each inner list contains two elements: a class name and its corresponding class code. The class names represent different land cover types:\n",
    "- water,\n",
    "- urbanized, \n",
    "- soil,\n",
    "- cropland,\n",
    "- grassland,\n",
    "- forest/treecover,\n",
    "##### and the class codes are numerical identifiers for each class."
   ]
  },
  {
   "cell_type": "code",
   "execution_count": null,
   "metadata": {},
   "outputs": [],
   "source": [
    "data=[['water',1],['urbanized',2],['soil',3],['cropland',4],['grassland',5],['forest/treecover',6]]\n",
    "df = pd.DataFrame(data,columns=['classname','classcode'])\n",
    "df"
   ]
  },
  {
   "cell_type": "markdown",
   "metadata": {},
   "source": [
    "\n",
    "The code loads training sample data from a CSV file, handles missing and infinite values, computes class statistics, and merges class information. It then sorts and prints summary statistics about the training samples, including class contributions. Finally, it displays a DataFrame with class contributions.\n",
    "\n"
   ]
  },
  {
   "cell_type": "code",
   "execution_count": null,
   "metadata": {},
   "outputs": [],
   "source": [
    "training_samples_inf= pd.read_csv(\"\")\n",
    "\n",
    "training_samples_inf.replace([np.inf, -np.inf, 0.0, -1000000000.0, 9999.0,], np.nan, inplace=True)\n",
    "training_samples=training_samples_inf.dropna(axis=0)\n",
    "original_features=training_samples.iloc[:,3:training_samples.shape[1]]\n",
    "column_names=training_samples.columns\n",
    "\n",
    "stat = []\n",
    "unique=training_samples['class'].unique()\n",
    "for i in unique:\n",
    "    no=len(training_samples[training_samples['class']== i])\n",
    "    stat = stat + [no]\n",
    "stat = np.array(stat)\n",
    "combined = np.vstack((unique, stat)).T\n",
    "df1 = pd.DataFrame(combined)\n",
    "df1.columns=['classcode','no_of_found_images_within_AOI']\n",
    "df1['%']=round(df1['no_of_found_images_within_AOI']/df1['no_of_found_images_within_AOI'].sum(),2)\n",
    "df2=df1.merge(df,on='classcode')\n",
    "\n",
    "\n",
    "df2= df2.sort_values('classcode')\n",
    "print('shape of the training samples with NaN, Inf/no.features',training_samples_inf.shape )\n",
    "print('shape of the training samples without NaN, Inf/no.features', training_samples.shape)\n",
    "print('Contribution of each class in training samples')\n",
    "df2"
   ]
  },
  {
   "cell_type": "markdown",
   "metadata": {},
   "source": [
    "This cell trains a Random Forest classifier on a dataset, computes the confusion matrix, generates a classification report, saves the trained model, and calculates the out-of-bag error and score."
   ]
  },
  {
   "cell_type": "code",
   "execution_count": null,
   "metadata": {},
   "outputs": [],
   "source": [
    "target=training_samples['class']\n",
    "start = time.process_time()\n",
    "randomforest=RandomForestClassifier(n_jobs=-1,n_estimators=500,class_weight=\"balanced\",bootstrap=True, oob_score=True)\n",
    "rf_model_initial=randomforest.fit(original_features,target)\n",
    "y_rf_train_pred=rf_model_initial.predict(original_features)\n",
    "\n",
    "conf=confusion_matrix(target,y_rf_train_pred)\n",
    "labels=['1:water','2:urbanized','3:soil','4:cropland','5:grassland','6:forest/treecover']\n",
    "\n",
    "plt.title('confusion matrix')\n",
    "ax=sns.heatmap(conf,annot=True,cmap=\"Blues\",fmt='g',cbar=True,  xticklabels= labels,  yticklabels=labels)\n",
    "plt.figure(figsize = (9,8))\n",
    "ax.set(xlabel=\"Predicted\", ylabel=\"Actual\")\n",
    "\n",
    "report=metrics.classification_report(target,y_rf_train_pred, digits=3, output_dict=True)\n",
    "df = pd.DataFrame(report).transpose()\n",
    "print(\"Classification accuracy report s:\", df)\n",
    "print(\"Procesing time in[ [s]\", time.process_time() - start)\n",
    "plt.savefig(\"\"+'Confusion_matrix_original.png', dpi=300)\n",
    "\n",
    "filename = \"\"+'Original_model2022.sav'\n",
    "\n",
    "pickle.dump(rf_model_initial, open(filename, 'wb'))\n",
    "\n",
    "oob_error = 1 - randomforest.oob_score_\n",
    "print(f'OOB error: {oob_error:.3f}')\n",
    "print(f'OOB score: {randomforest.oob_score_:.3f}')"
   ]
  },
  {
   "cell_type": "markdown",
   "metadata": {},
   "source": [
    "\n",
    "This code predicts target values using cross-validated Random Forest classifier, computes and plots the confusion matrix, saves the plot, prints classification accuracy report, and calculates key evaluation metrics."
   ]
  },
  {
   "cell_type": "code",
   "execution_count": null,
   "metadata": {},
   "outputs": [],
   "source": [
    "y_train_pred = cross_val_predict(rf_model_initial, original_features, target, cv=5)\n",
    "\n",
    "# Compute confusion matrix\n",
    "conf = confusion_matrix(target, y_train_pred)\n",
    "\n",
    "# Define class labels\n",
    "labels = ['1:water', '2:urbanized', '3:soil', '4:cropland', '5:grassland', '6:forest/treecover']\n",
    "\n",
    "# Plot confusion matrix\n",
    "plt.figure(figsize=(9, 8))\n",
    "plt.title('Confusion Matrix')\n",
    "ax = sns.heatmap(conf, annot=True, cmap=\"Blues\", fmt='g', cbar=True, xticklabels=labels, yticklabels=labels)\n",
    "ax.set(xlabel=\"Predicted\", ylabel=\"Actual\")\n",
    "plt.savefig(\"\" + 'Confusion_matrix.png', dpi=300)\n",
    "plt.show()\n",
    "\n",
    "report = classification_report(target, y_train_pred, digits=3, output_dict=True)\n",
    "df = pd.DataFrame(report).transpose()\n",
    "print(\"Classification accuracy report:\\n\", df)\n",
    "\n",
    "overall_accuracy = report['accuracy']\n",
    "precision_macro = report['macro avg']['precision']\n",
    "recall_macro = report['macro avg']['recall']\n",
    "f1_macro = report['macro avg']['f1-score']\n",
    "\n",
    "print(\"Overall Accuracy:\", overall_accuracy)\n",
    "print(\"Precision (Macro):\", precision_macro)\n",
    "print(\"Recall (Macro):\", recall_macro)\n",
    "print(\"F1-Score (Macro):\", f1_macro)\n"
   ]
  },
  {
   "cell_type": "markdown",
   "metadata": {},
   "source": [
    "\n",
    "Prepares DataFrames for predicted and true class labels, and for point geometry data.\n",
    "Merges these DataFrames and renames columns.\n",
    "Creates a DataFrame with a Boolean column indicating correct predictions.\n",
    "Converts point geometry data to Shapely geometries.\n",
    "Filters for falsely or correctly classified instances.\n",
    "Creates GeoDataFrames and saves them to shapefiles based on classification accuracy."
   ]
  },
  {
   "cell_type": "code",
   "execution_count": null,
   "metadata": {},
   "outputs": [],
   "source": [
    "from shapely import wkt\n",
    "predicted=pd.DataFrame(y_rf_train_pred)\n",
    "point_geometry=training_samples.iloc[:,2]\n",
    "ground_truth=pd.DataFrame(target)\n",
    "df=pd.merge(point_geometry,predicted,left_index=True, right_index=True)\n",
    "df=pd.merge(df,ground_truth,left_index=True, right_index=True)\n",
    "df.columns=['point_geometry', 'predicted_class','target_class']\n",
    "df_equal=pd.DataFrame(df['predicted_class'] == df['target_class'])\n",
    "df1=pd.merge(df,df_equal,left_index=True, right_index=True)\n",
    "df1.columns=['point_geom', 'pred_class','target','equals']\n",
    "df1['id_geom']=df1['point_geom'].apply(wkt.loads)\n",
    "df1_false= df1[df1['equals'] == False]\n",
    "\n",
    "gdf= geopandas.GeoDataFrame(df1_false, geometry='id_geom',crs='EPSG:32631')\n",
    "gdf.to_file(\"\"+'False_classifciation.shp')\n",
    "df_true= df1[df1['equals'] == True]\n",
    "gdf= geopandas.GeoDataFrame(df_true, geometry='id_geom',crs='EPSG:32631')\n",
    "gdf.to_file(\"\"+'true_classification.shp')\n",
    "print('number of falsely classified',df1_false.shape[0])\n",
    "print('number of correctly classified',df_true.shape[0])\n",
    "print('Total classified',df_true.shape[0]+df1_false.shape[0])\n"
   ]
  },
  {
   "cell_type": "markdown",
   "metadata": {},
   "source": [
    "This code snippet calculates the absolute correlation matrix for original features and visualizes it using a heatmap. It then saves the heatmap plot as an image file named 'Correlation_matrix.png'."
   ]
  },
  {
   "cell_type": "code",
   "execution_count": null,
   "metadata": {},
   "outputs": [],
   "source": [
    "corr_matrix=round(original_features.corr().abs(),2)\n",
    "plt.figure(figsize=(20,20))\n",
    "sns.heatmap(corr_matrix, annot=False,\n",
    "        xticklabels=corr_matrix.columns,\n",
    "        yticklabels=corr_matrix.columns)\n",
    "plt.xlabel('Input features',fontsize= 22, fontweight='semibold')\n",
    "plt.ylabel('Input features',fontsize= 22,fontweight='semibold')\n",
    "plt.savefig(\"\"+'Correlation_matrix.png', dpi=300)"
   ]
  }
 ],
 "metadata": {
  "kernelspec": {
   "display_name": "Python 3",
   "language": "python",
   "name": "python3"
  },
  "language_info": {
   "codemirror_mode": {
    "name": "ipython",
    "version": 3
   },
   "file_extension": ".py",
   "mimetype": "text/x-python",
   "name": "python",
   "nbconvert_exporter": "python",
   "pygments_lexer": "ipython3",
   "version": "3.9.16"
  }
 },
 "nbformat": 4,
 "nbformat_minor": 2
}

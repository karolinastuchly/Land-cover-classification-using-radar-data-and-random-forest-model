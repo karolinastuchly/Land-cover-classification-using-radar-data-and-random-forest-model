{
 "cells": [
  {
   "cell_type": "markdown",
   "id": "279f8663",
   "metadata": {},
   "source": [
    "# Preparing the Sentinel-1 Data"
   ]
  },
  {
   "cell_type": "markdown",
   "id": "09edf51b",
   "metadata": {},
   "source": [
    "### Import libraries"
   ]
  },
  {
   "cell_type": "code",
   "execution_count": null,
   "id": "a3841b9f",
   "metadata": {},
   "outputs": [],
   "source": [
    "import cv2\n",
    "import os\n",
    "import numpy as np\n",
    "import imageio\n",
    "from osgeo import gdal, osr\n",
    "import multiprocessing"
   ]
  },
  {
   "cell_type": "markdown",
   "id": "922d7f39-3b9e-4e4a-9e38-9dfe056ca2cb",
   "metadata": {},
   "source": [
    "### Removal of infinity"
   ]
  },
  {
   "cell_type": "markdown",
   "id": "31f2cdb7",
   "metadata": {},
   "source": [
    "The cell takes TIF image files from the input_folder, processes them to remove extreme values (positive and negative infinity), and saves the modified images to the output_folder. It also updates the geospatial information (coordinate system and projection) of the output TIF files to match that of the input files."
   ]
  },
  {
   "cell_type": "code",
   "execution_count": null,
   "id": "15d1479d-b1ef-4cfc-b93c-907dc28a8c57",
   "metadata": {},
   "outputs": [],
   "source": [
    "input_folder = \"\"\n",
    "output_folder = \"\"\n",
    "\n",
    "if not os.path.exists(output_folder):\n",
    "    os.makedirs(output_folder)\n",
    "for filename in os.listdir(input_folder):\n",
    "    if filename.endswith('.tif') or filename.endswith('.tiff'):\n",
    "        input_tif = os.path.join(input_folder, filename)\n",
    "        output_tif = os.path.join(output_folder, filename)\n",
    "        image = cv2.imread(input_tif, cv2.IMREAD_UNCHANGED)\n",
    "        if image is not None:\n",
    "            image[image == float('inf')] = 0\n",
    "            image[image == -float('inf')] = 0\n",
    "            cv2.imwrite(output_tif, image)\n",
    "            print(f\"TIF file '{filename}' with extreme values removed has been saved.\")\n",
    "            input_dataset = gdal.Open(input_tif)\n",
    "            geo_transform = input_dataset.GetGeoTransform()\n",
    "            projection = input_dataset.GetProjection()\n",
    "            output_dataset = gdal.Open(output_tif, gdal.GA_Update)\n",
    "            output_dataset.SetGeoTransform(geo_transform)\n",
    "            output_dataset.SetProjection(projection)\n",
    "            output_dataset.GetRasterBand(1).WriteArray(image)\n",
    "\n",
    "            print(f\"Geospatial information written to the TIF file.\")\n",
    "        else:\n",
    "            print(f\"Failed to load TIF file '{filename}'.\")\n",
    "            \n",
    "print(\"Processing complete.\")\n",
    "\n"
   ]
  },
  {
   "cell_type": "markdown",
   "id": "5e4762c8",
   "metadata": {},
   "source": [
    "## Reduce speckle noise"
   ]
  },
  {
   "cell_type": "markdown",
   "id": "11b2fd67",
   "metadata": {},
   "source": [
    "This cell applies a Lee filter to TIF images found in a specified input folder, reducing speckle noise. It then saves the filtered images to an output folder while preserving their geospatial properties. The script utilizes multiprocessing for efficient processing and improves image quality for further analysis or visualization purposes."
   ]
  },
  {
   "cell_type": "code",
   "execution_count": null,
   "id": "6bbbba2b-a9cd-4744-b8a9-ca444d07b805",
   "metadata": {},
   "outputs": [],
   "source": [
    "def set_geotransform_and_projection(output_image_path, input_image_path):\n",
    "    input_file = gdal.Open(input_image_path)\n",
    "    output_file = gdal.GetDriverByName('GTiff').Create(output_image_path, input_file.RasterXSize, input_file.RasterYSize, 1, gdal.GDT_Float32)\n",
    "    output_file.SetGeoTransform(input_file.GetGeoTransform())\n",
    "    output_file.SetProjection(input_file.GetProjection())\n",
    "    return output_file\n",
    "\n",
    "def lee_filter(image, window_size):\n",
    "    rows, cols = image.shape\n",
    "    filtered_image = np.zeros_like(image)\n",
    "    margin = window_size // 2\n",
    "\n",
    "    for i in range(margin, rows - margin):\n",
    "        for j in range(margin, cols - margin):\n",
    "            window = image[i - margin:i + margin + 1, j - margin:j + margin + 1]\n",
    "            mean = np.mean(window)\n",
    "            std_dev = np.std(window)\n",
    "            var = std_dev ** 2\n",
    "            if var == 0:\n",
    "                filtered_image[i, j] = image[i, j]\n",
    "            else:\n",
    "                filtered_image[i, j] = mean + ((std_dev ** 2) / (var + (std_dev ** 2))) * (image[i, j] - mean)\n",
    "\n",
    "    return filtered_image\n",
    "\n",
    "def process_image(input_image_path, output_image_path, window_size):\n",
    "    output_file = set_geotransform_and_projection(output_image_path, input_image_path)\n",
    "    image = imageio.imread(input_image_path)\n",
    "    filtered_image = lee_filter(image, window_size)\n",
    "    output_file.GetRasterBand(1).WriteArray(filtered_image)\n",
    "    output_file = None\n",
    "\n",
    "if __name__ == \"__main__\":\n",
    "    input_folder = \"\"\n",
    "    output_folder = \"\"\n",
    "    window_size = 7 \n",
    "\n",
    "    if not os.path.exists(output_folder):\n",
    "        os.makedirs(output_folder)\n",
    "\n",
    "    pool = multiprocessing.Pool(processes=4)  \n",
    "    jobs = []\n",
    "\n",
    "    for filename in os.listdir(input_folder):\n",
    "        if filename.endswith(\".tif\"):\n",
    "            input_image_path = os.path.join(input_folder, filename)\n",
    "            output_image_path = os.path.join(output_folder, filename)\n",
    "            job = pool.apply_async(process_image, (input_image_path, output_image_path, window_size))\n",
    "            jobs.append(job)\n",
    "\n",
    "    for job in jobs:\n",
    "        job.get()\n",
    "\n",
    "    pool.close()\n",
    "    pool.join()\n"
   ]
  },
  {
   "cell_type": "markdown",
   "id": "698df436",
   "metadata": {},
   "source": [
    "## Conversion of scale"
   ]
  },
  {
   "cell_type": "markdown",
   "id": "c2e525f5",
   "metadata": {},
   "source": [
    "This script traverses through a directory structure containing TIF image files, converting their pixel values to decibels (dB) using a logarithmic scale. It then saves the processed images in a new directory structure, appending \"_db.tif\" to the filenames. Finally, it prints a message indicating the completion of the processing."
   ]
  },
  {
   "cell_type": "code",
   "execution_count": null,
   "id": "e60aeed6",
   "metadata": {},
   "outputs": [],
   "source": [
    "root_folder = \"\"\n",
    "output_folder = \"\"\n",
    "\n",
    "def process_folder(input_folder, output_folder):\n",
    "    if not os.path.exists(output_folder):\n",
    "        os.makedirs(output_folder)\n",
    "\n",
    "    tif_files = [file for file in os.listdir(input_folder) if file.endswith(\".tif\")]\n",
    "    for tif_file in tif_files:\n",
    "        input_file_path = os.path.join(input_folder, tif_file)\n",
    "        output_subfolder = os.path.join(output_folder, os.path.basename(input_folder))\n",
    "        output_file_path = os.path.join(output_subfolder, os.path.splitext(tif_file)[0] + \"_db.tif\")\n",
    "\n",
    "        if not os.path.exists(output_subfolder):\n",
    "            os.makedirs(output_subfolder)\n",
    "\n",
    "        input_ds = gdal.Open(input_file_path)\n",
    "        if input_ds is None:\n",
    "            print(f\"Cannot open input file: {tif_file}\")\n",
    "            continue\n",
    "\n",
    "        input_data = input_ds.ReadAsArray()\n",
    "        decibel_data = 10 * np.log10(input_data)\n",
    "        output_ds = gdal.GetDriverByName(\"GTiff\").Create(\n",
    "            output_file_path,\n",
    "            input_ds.RasterXSize,\n",
    "            input_ds.RasterYSize,\n",
    "            1,\n",
    "            gdal.GDT_Float32\n",
    "        )\n",
    "\n",
    "        output_ds.SetGeoTransform(input_ds.GetGeoTransform())\n",
    "        output_ds.SetProjection(input_ds.GetProjection())\n",
    "        output_ds.GetRasterBand(1).WriteArray(decibel_data)\n",
    "\n",
    "        input_ds = None\n",
    "        output_ds = None\n",
    "\n",
    "for root, dirs, files in os.walk(root_folder):\n",
    "    for directory in dirs:\n",
    "        input_folder_path = os.path.join(root, directory)\n",
    "        output_folder_path = os.path.join(output_folder, os.path.basename(root))\n",
    "        process_folder(input_folder_path, output_folder_path)\n",
    "\n",
    "print(\"Processing completed.\")\n"
   ]
  }
 ],
 "metadata": {
  "kernelspec": {
   "display_name": "Python 3 (ipykernel)",
   "language": "python",
   "name": "python3"
  },
  "language_info": {
   "codemirror_mode": {
    "name": "ipython",
    "version": 3
   },
   "file_extension": ".py",
   "mimetype": "text/x-python",
   "name": "python",
   "nbconvert_exporter": "python",
   "pygments_lexer": "ipython3",
   "version": "3.8.10"
  }
 },
 "nbformat": 4,
 "nbformat_minor": 5
}

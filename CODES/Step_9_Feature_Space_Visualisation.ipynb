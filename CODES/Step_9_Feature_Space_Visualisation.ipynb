{
 "cells": [
  {
   "cell_type": "markdown",
   "metadata": {},
   "source": [
    "### Import libraries"
   ]
  },
  {
   "cell_type": "code",
   "execution_count": null,
   "metadata": {},
   "outputs": [],
   "source": [
    "import pandas as pd\n",
    "import numpy as np\n",
    "import matplotlib.pyplot as plt\n",
    "import os\n"
   ]
  },
  {
   "cell_type": "markdown",
   "metadata": {},
   "source": [
    "\n",
    "This code snippet reads a CSV file into a DataFrame, filters outliers from two specified columns based on mean and standard deviation, creates a scatter plot of the filtered data, assigns custom colors and labels to each class, and saves the plot as an image file."
   ]
  },
  {
   "cell_type": "code",
   "execution_count": null,
   "metadata": {},
   "outputs": [],
   "source": [
    "df = pd.read_csv(\"\")\n",
    "df.replace([np.inf, -np.inf, 0.0, -1000000000.0], np.nan, inplace=True)\n",
    "x_column = \"\"\n",
    "y_column = \"\"\n",
    "\n",
    "outlier_multiplier = 4  \n",
    "mean_x = df[x_column].mean()\n",
    "std_x = df[x_column].std()\n",
    "mean_y = df[y_column].mean()\n",
    "std_y = df[y_column].std()\n",
    "\n",
    "df = df[(df[x_column] >= mean_x - outlier_multiplier * std_x) & (df[x_column] <= mean_x + outlier_multiplier * std_x)]\n",
    "df = df[(df[y_column] >= mean_y - outlier_multiplier * std_y) & (df[y_column] <= mean_y + outlier_multiplier * std_y)]\n",
    "\n",
    "plt.figure(figsize=(10, 8))\n",
    "classes = df['class'].unique()\n",
    "class_info = {1: {'color': 'blue', 'label': 'water'},\n",
    "              2: {'color': 'red', 'label': 'urbanized'},\n",
    "              3: {'color': 'black', 'label': 'soil'},\n",
    "              4: {'color': 'pink', 'label': 'cropland'},\n",
    "              5: {'color': 'yellow', 'label': 'grassland'},\n",
    "              6: {'color': 'green', 'label': 'forest'}}  \n",
    "\n",
    "for class_label in classes:\n",
    "    class_data = df[df['class'] == class_label]\n",
    "    info = class_info.get(class_label, {'label': f'Class {class_label}'})\n",
    "    plt.scatter(class_data[x_column], class_data[y_column], label=info['label'], color=info['color'], marker='o', s=2, alpha=0.7)\n",
    "\n",
    "plt.xlabel(x_column)\n",
    "plt.ylabel(y_column)\n",
    "plt.legend()\n",
    "legend = plt.legend()\n",
    "output_path = os.path.join(\"\", f'{x_column}_{y_column}_scaled_no_outliers.jpg')\n",
    "plt.savefig(output_path)\n",
    "plt.show()\n"
   ]
  }
 ],
 "metadata": {
  "kernelspec": {
   "display_name": "Python 3",
   "language": "python",
   "name": "python3"
  },
  "language_info": {
   "codemirror_mode": {
    "name": "ipython",
    "version": 3
   },
   "file_extension": ".py",
   "mimetype": "text/x-python",
   "name": "python",
   "nbconvert_exporter": "python",
   "pygments_lexer": "ipython3",
   "version": "3.9.16"
  }
 },
 "nbformat": 4,
 "nbformat_minor": 2
}

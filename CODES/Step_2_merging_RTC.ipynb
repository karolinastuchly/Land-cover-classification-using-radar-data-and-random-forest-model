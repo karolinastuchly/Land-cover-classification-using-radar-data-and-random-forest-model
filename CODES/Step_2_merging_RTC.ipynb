{
 "cells": [
  {
   "cell_type": "markdown",
   "id": "d0185ebb-947e-4cb7-8cae-e94d3eaa0ca7",
   "metadata": {},
   "source": [
    "### Merging RTC files into the one tiff appropraite for AOI\n",
    "* note that this script ois not perfectly designed and for further \"do to list\" it shoulb be rewrite by using another liblaries, \n",
    "* usually when decreasing resolution of the final image or increase number of images to merge, kernel is dying due to the huge memory usage"
   ]
  },
  {
   "cell_type": "markdown",
   "id": "c93ec876",
   "metadata": {},
   "source": [
    "Import libraries"
   ]
  },
  {
   "cell_type": "code",
   "execution_count": null,
   "id": "b49fe1f1",
   "metadata": {},
   "outputs": [],
   "source": [
    "import pandas as pd\n",
    "import os\n",
    "import numpy as np\n",
    "import rioxarray as riox\n",
    "from rioxarray.merge import merge_arrays\n",
    "import gc"
   ]
  },
  {
   "cell_type": "markdown",
   "id": "69176699",
   "metadata": {},
   "source": [
    "Polarisation VH"
   ]
  },
  {
   "cell_type": "code",
   "execution_count": null,
   "id": "163a60eb-879c-4754-8919-c8712e89585d",
   "metadata": {
    "jupyter": {
     "source_hidden": true
    },
    "tags": []
   },
   "outputs": [],
   "source": [
    "gc.collect()\n",
    "df_sliceVH = pd.read_csv(\"\")\n",
    "gc.collect()\n",
    "unique=df_sliceVH['Date'].unique()\n",
    "for data in unique:\n",
    "    df=df_sliceVH.loc[df_sliceVH['Date']==data]\n",
    "    tiles = [riox.open_rasterio(path) for path in np.array(df['Path'])]\n",
    "    merged_raster = merge_arrays(dataarrays=tiles, res=(10, 10), crs=\"EPSG:32631\", nodata=np.NaN)\n",
    "    merged_raster.rio.to_raster(\"{data}_VH.tif\")\n",
    "    gc.collect()\n",
    "    merged_raster.close()\n"
   ]
  },
  {
   "cell_type": "markdown",
   "id": "7c62c857",
   "metadata": {},
   "source": [
    "Polarisation VV"
   ]
  },
  {
   "cell_type": "code",
   "execution_count": null,
   "id": "070642f4-b4b7-4f2a-849c-331c3147bb83",
   "metadata": {
    "collapsed": true,
    "jupyter": {
     "outputs_hidden": true
    },
    "tags": []
   },
   "outputs": [],
   "source": [
    "gc.collect()\n",
    "df_sliceVV = pd.read_csv(\"\")\n",
    "unique=df_sliceVV['Date'].unique()\n",
    "for data in unique:\n",
    "    df=df_sliceVV.loc[df_sliceVV['Date']==data]\n",
    "    tiles = [riox.open_rasterio(path) for path in np.array(df['Path'])]\n",
    "    merged_raster = merge_arrays(dataarrays=tiles, res=(20, 20), crs=\"EPSG:32631\", nodata=np.NaN)\n",
    "    merged_raster.rio.to_raster(\"/{data}_VH.tif\")\n",
    "    gc.collect()\n",
    "    merged_raster.close()"
   ]
  }
 ],
 "metadata": {
  "kernelspec": {
   "display_name": "Python 3 (ipykernel)",
   "language": "python",
   "name": "python3"
  },
  "language_info": {
   "codemirror_mode": {
    "name": "ipython",
    "version": 3
   },
   "file_extension": ".py",
   "mimetype": "text/x-python",
   "name": "python",
   "nbconvert_exporter": "python",
   "pygments_lexer": "ipython3",
   "version": "3.8.10"
  }
 },
 "nbformat": 4,
 "nbformat_minor": 5
}

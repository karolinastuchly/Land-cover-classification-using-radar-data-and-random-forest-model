{
 "cells": [
  {
   "cell_type": "markdown",
   "metadata": {},
   "source": [
    "Import libraries"
   ]
  },
  {
   "cell_type": "code",
   "execution_count": null,
   "metadata": {},
   "outputs": [],
   "source": [
    "from sklearn.model_selection import StratifiedKFold, GridSearchCV, RandomizedSearchCV, cross_val_score\n",
    "from sklearn.ensemble import RandomForestClassifier\n",
    "from sklearn.model_selection import StratifiedKFold, GridSearchCV"
   ]
  },
  {
   "cell_type": "markdown",
   "metadata": {},
   "source": [
    "This code performs hyperparameter tuning for a random forest classifier using GridSearchCV to find the best combination of n_estimators and max_features, and then for max_depth. It prints out the best accuracy scores and hyperparameters for both cases."
   ]
  },
  {
   "cell_type": "code",
   "execution_count": null,
   "metadata": {},
   "outputs": [],
   "source": [
    "n_estimators = [10, 50, 100, 200, 250, 500, 750, 1000]\n",
    "print(f'The number of trees is {n_estimators}')\n",
    "max_features = [1, 2, 3, 4, 5, 6, 7, 8, 9, 10, 11, 12, 13, 14, 15]\n",
    "print(f'The number of features is {max_features}')\n",
    "\n",
    "param_grid = {\n",
    "    \"n_estimators\": n_estimators,\n",
    "    \"max_features\": max_features,\n",
    "}\n",
    "scoring = ['accuracy']\n",
    "kfold = StratifiedKFold(n_splits=3, shuffle=True, random_state=0)\n",
    "\n",
    "grid_search = GridSearchCV(estimator=rf_model_imp,\n",
    "                           param_grid=param_grid,\n",
    "                           scoring=scoring,\n",
    "                           refit='accuracy',\n",
    "                           n_jobs=-1,\n",
    "                           cv=kfold,\n",
    "                           verbose=0)\n",
    "grid_result = grid_search.fit(feature_important, target)\n",
    "print(f'The best accuracy score for the training dataset is {grid_result.best_score_:.3f}')\n",
    "print(f'The best hyperparameters are {grid_result.best_params_}')\n",
    "print(f'The accuracy score for the training dataset is {grid_search.score(feature_important, target):.4f}')\n",
    "\n",
    "max_depths = [5, 10, 20, 30, None]\n",
    "print(f'The values of max_depth are: {max_depths}')\n",
    "param_grid = {\n",
    "    \"max_depth\": max_depths\n",
    "}\n",
    "scoring = 'accuracy'\n",
    "kfold = StratifiedKFold(n_splits=3, shuffle=True, random_state=0)\n",
    "\n",
    "grid_search = GridSearchCV(estimator=RandomForestClassifier(),\n",
    "                           param_grid=param_grid,\n",
    "                           scoring=scoring,\n",
    "                           refit=True,\n",
    "                           n_jobs=-1,\n",
    "                           cv=kfold,\n",
    "                           verbose=0)\n",
    "\n",
    "grid_result = grid_search.fit(feature_important, target)\n",
    "print(f'The best accuracy score for the training dataset: {grid_result.best_score_:.3f}')\n",
    "print(f'The best hyperparameters: {grid_result.best_params_}')\n",
    "print(f'Accuracy score for the training dataset: {grid_search.score(feature_important, target):.4f}')\n"
   ]
  }
 ],
 "metadata": {
  "language_info": {
   "name": "python"
  }
 },
 "nbformat": 4,
 "nbformat_minor": 2
}

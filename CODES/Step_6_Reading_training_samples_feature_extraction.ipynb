{
 "cells": [
  {
   "cell_type": "markdown",
   "metadata": {},
   "source": [
    "### Import libraries"
   ]
  },
  {
   "cell_type": "code",
   "execution_count": null,
   "metadata": {},
   "outputs": [],
   "source": [
    "import geopandas as gpd\n",
    "import pandas as pd\n",
    "import numpy as np\n",
    "import matplotlib.pyplot as plt\n",
    "import rasterio\n",
    "from rasterio.plot import show\n",
    "import os\n",
    "import time\n",
    "import gc\n",
    "\n"
   ]
  },
  {
   "cell_type": "markdown",
   "metadata": {},
   "source": [
    "### Import points \n",
    "This code snippet loads point data representing tree cover from a shapefile, displays its coordinate system, and visualizes the points."
   ]
  },
  {
   "cell_type": "code",
   "execution_count": null,
   "metadata": {},
   "outputs": [],
   "source": [
    "print(\"Points coordinate system\")\n",
    "pointData = gpd.read_file(\"\")\n",
    "print(pointData.crs)\n",
    "print(\"Number of point training samples:\", pointData.shape[0])\n",
    "fig, ax = plt.subplots(figsize=(8, 8))\n",
    "pointData.plot(ax=ax, markersize=10)\n",
    "plt.show()\n"
   ]
  },
  {
   "cell_type": "markdown",
   "metadata": {},
   "source": [
    "This code snippet reads raster data from multiple TIFF files, extracts values at coordinates corresponding to points from a GeoDataFrame (pointData), and adds these values as new columns to the DataFrame. Finally, it prints out processing information, displays a portion of the DataFrame and save this to csv file."
   ]
  },
  {
   "cell_type": "code",
   "execution_count": null,
   "metadata": {},
   "outputs": [],
   "source": [
    "tif_folder = \"\"\n",
    "start = time.process_time()\n",
    "tif_files = [file for file in os.listdir(tif_folder) if file.endswith('.tif') or file.endswith('.img')]\n",
    "tif_files_sorted = sorted(tif_files)\n",
    "\n",
    "def get_raster_values(tif_file, coords):\n",
    "    with rasterio.open(os.path.join(tif_folder, tif_file)) as src:\n",
    "        values = [x[0] for x in src.sample(coords)]\n",
    "    return values\n",
    "\n",
    "for tif_file in tif_files_sorted:\n",
    "    column_name = os.path.splitext(tif_file)[0]\n",
    "    coord_list = [(x, y) for x, y in zip(pointData[\"geometry\"].x, pointData[\"geometry\"].y)]\n",
    "    pointData[column_name] = get_raster_values(tif_file, coord_list)\n",
    "    print(f\"Przetworzono plik: {tif_file}\")\n",
    "print(\"For the number of traininf samples equal to :\",pointData.shape[0] )\n",
    "print(\"Procesing time is [s]\", time.process_time() - start)\n",
    "print(pointData.head(6000))\n",
    "pointData.to_csv(\"\", index=False)"
   ]
  }
 ],
 "metadata": {
  "kernelspec": {
   "display_name": "Python 3",
   "language": "python",
   "name": "python3"
  },
  "language_info": {
   "codemirror_mode": {
    "name": "ipython",
    "version": 3
   },
   "file_extension": ".py",
   "mimetype": "text/x-python",
   "name": "python",
   "nbconvert_exporter": "python",
   "pygments_lexer": "ipython3",
   "version": "3.9.16"
  }
 },
 "nbformat": 4,
 "nbformat_minor": 2
}

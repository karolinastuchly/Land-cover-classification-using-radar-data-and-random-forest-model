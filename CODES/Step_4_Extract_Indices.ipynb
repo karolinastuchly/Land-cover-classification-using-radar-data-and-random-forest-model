{
 "cells": [
  {
   "cell_type": "markdown",
   "metadata": {},
   "source": [
    "Import libraries\n"
   ]
  },
  {
   "cell_type": "code",
   "execution_count": null,
   "metadata": {},
   "outputs": [],
   "source": [
    "import geopandas as gpd\n",
    "import pandas as pd\n",
    "import numpy as np\n",
    "import matplotlib.pyplot as plt\n",
    "import rasterio\n",
    "from rasterio.plot import show\n",
    "import os\n",
    "os.environ['USE_PYGEOS'] = '0'\n",
    "from raster2xyz.raster2xyz import Raster2xyz\n",
    "from sklearn.preprocessing import MinMaxScaler, RobustScaler\n",
    "import geopandas as gpd\n",
    "import time"
   ]
  },
  {
   "cell_type": "markdown",
   "metadata": {},
   "source": [
    "### Import points \n",
    "This code snippet loads point data representing tree cover from a shapefile, displays its coordinate system, and visualizes the points."
   ]
  },
  {
   "cell_type": "code",
   "execution_count": null,
   "metadata": {},
   "outputs": [],
   "source": [
    "print(\"Points coordinate system\")\n",
    "pointData = gpd.read_file('')\n",
    "print(pointData.crs)\n",
    "print(\"Number of point training samples:\", pointData.shape[0])\n",
    "fig, ax = plt.subplots(figsize=(8, 8))\n",
    "pointData.plot(ax=ax, markersize=10)\n",
    "plt.show()\n"
   ]
  },
  {
   "cell_type": "code",
   "execution_count": null,
   "metadata": {},
   "outputs": [],
   "source": [
    "tif_folder = ''\n",
    "start = time.process_time()\n",
    "tif_files = [file for file in os.listdir(tif_folder) if file.endswith('.tif')]\n",
    "tif_files_sorted = sorted(tif_files)\n",
    "\n",
    "def get_raster_values(tif_file, coords):\n",
    "    with rasterio.open(os.path.join(tif_folder, tif_file)) as src:\n",
    "        values = [x[0] for x in src.sample(coords)]\n",
    "    return values\n",
    "\n",
    "for tif_file in tif_files_sorted:\n",
    "    column_name = os.path.splitext(tif_file)[0]\n",
    "    coord_list = [(x, y) for x, y in zip(pointData[\"geometry\"].x, pointData[\"geometry\"].y)]\n",
    "    pointData[column_name] = get_raster_values(tif_file, coord_list)\n",
    "    print(f\"Przetworzono plik: {tif_file}\")\n",
    "print(\"For the number of traininf samples equal to :\",pointData.shape[0] )\n",
    "print(\"Procesing time is [s]\", time.process_time() - start)\n",
    "print(pointData.head(6000))\n",
    "pointData.to_csv('', index=False)"
   ]
  },
  {
   "cell_type": "markdown",
   "metadata": {},
   "source": [
    "\n",
    "This code reads a CSV file containing multi-temporal SAR data, calculates the Normalized Difference Polarization Index (NDPI) for each date column, and saves the results along with class and geometry information to a new CSV file."
   ]
  },
  {
   "cell_type": "code",
   "execution_count": null,
   "metadata": {},
   "outputs": [],
   "source": [
    "df = pd.read_csv('')\n",
    "result_columns = df.columns[3:]  \n",
    "result_columns = [col for col in result_columns if col.endswith('_VV')] \n",
    "result_df = df[['class', 'layer', 'geometry']]\n",
    "for date_column in result_columns:\n",
    "    VV = df[date_column]\n",
    "    VH = df[date_column.replace('_VV', '_VH')]\n",
    "    # result_df[f'{date_column}_VV_VH'] = VV / VH\n",
    "    # result_df[f'{date_column}_VH_VV'] = VH / VV\n",
    "    result_df[f'{date_column}_NDPI'] = (VV - VH) / (VV + VH)\n",
    "    # result_df[f'{date_column}_POL_Index'] = (VH - VV) / (VH + VV)\n",
    "    # result_df[f'{date_column}_DPSVI'] = ((((VV.max()) - VV) + VH) / (np.sqrt(2))) * ((VV + VH) / VV) * VH\n",
    "    # result_df[f'{date_column}_DPSVIm'] = ((VV * VV) + (VV * VH)) / (np.sqrt(2))\n",
    "\n",
    "result_df.to_csv('', index=False)\n"
   ]
  }
 ],
 "metadata": {
  "kernelspec": {
   "display_name": "Python 3",
   "language": "python",
   "name": "python3"
  },
  "language_info": {
   "codemirror_mode": {
    "name": "ipython",
    "version": 3
   },
   "file_extension": ".py",
   "mimetype": "text/x-python",
   "name": "python",
   "nbconvert_exporter": "python",
   "pygments_lexer": "ipython3",
   "version": "3.9.16"
  }
 },
 "nbformat": 4,
 "nbformat_minor": 2
}
